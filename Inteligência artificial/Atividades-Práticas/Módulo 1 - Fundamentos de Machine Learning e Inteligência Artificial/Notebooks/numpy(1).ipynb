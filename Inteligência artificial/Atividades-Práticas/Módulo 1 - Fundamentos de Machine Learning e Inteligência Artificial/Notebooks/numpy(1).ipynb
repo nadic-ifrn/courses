{
 "cells": [
  {
   "cell_type": "code",
   "execution_count": null,
   "id": "229cc5c2-9f81-4939-acc9-bcf9bf57761c",
   "metadata": {},
   "outputs": [],
   "source": [
    "### Numpy"
   ]
  },
  {
   "cell_type": "code",
   "execution_count": 2,
   "id": "f005a800-3b06-4f8b-87ea-5e00ef32a116",
   "metadata": {},
   "outputs": [],
   "source": [
    "import numpy as np"
   ]
  },
  {
   "cell_type": "code",
   "execution_count": 4,
   "id": "51d91882-c151-47fd-9531-eee502238425",
   "metadata": {},
   "outputs": [
    {
     "data": {
      "text/plain": [
       "[1, 2, 3]"
      ]
     },
     "execution_count": 4,
     "metadata": {},
     "output_type": "execute_result"
    }
   ],
   "source": [
    "lista = [1,2,3]\n",
    "lista"
   ]
  },
  {
   "cell_type": "code",
   "execution_count": 5,
   "id": "20ea5f51-c68a-4e7e-b7fd-c758ed31e48b",
   "metadata": {},
   "outputs": [
    {
     "data": {
      "text/plain": [
       "array([1, 2, 3])"
      ]
     },
     "execution_count": 5,
     "metadata": {},
     "output_type": "execute_result"
    }
   ],
   "source": [
    "np.array(lista) #array de uma dimensão"
   ]
  },
  {
   "cell_type": "code",
   "execution_count": 8,
   "id": "e974f345-51ee-40ed-8991-f5fb7950acdd",
   "metadata": {},
   "outputs": [
    {
     "data": {
      "text/plain": [
       "[[1, 1, 1], [2, 2, 2], [3, 3, 3]]"
      ]
     },
     "execution_count": 8,
     "metadata": {},
     "output_type": "execute_result"
    }
   ],
   "source": [
    "matriz = [ [1,1,1], [2,2,2], [3,3,3]] #array de duas dimensões\n",
    "matriz"
   ]
  },
  {
   "cell_type": "code",
   "execution_count": 9,
   "id": "270aa175-cfd9-4e9c-beeb-314be933536d",
   "metadata": {},
   "outputs": [
    {
     "data": {
      "text/plain": [
       "array([[1, 1, 1],\n",
       "       [2, 2, 2],\n",
       "       [3, 3, 3]])"
      ]
     },
     "execution_count": 9,
     "metadata": {},
     "output_type": "execute_result"
    }
   ],
   "source": [
    "np.array(matriz)"
   ]
  },
  {
   "cell_type": "code",
   "execution_count": 10,
   "id": "12b0c0a4-cbcc-4273-8fdb-4910ef7d7317",
   "metadata": {},
   "outputs": [
    {
     "data": {
      "text/plain": [
       "[[[1, 2], [3, 4]], [[5, 6], [7, 8]]]"
      ]
     },
     "execution_count": 10,
     "metadata": {},
     "output_type": "execute_result"
    }
   ],
   "source": [
    "cubo = [[[1, 2], [3, 4]], [[5, 6], [7, 8]]]\n",
    "cubo"
   ]
  },
  {
   "cell_type": "code",
   "execution_count": 11,
   "id": "7f1309c2-b3a2-43ca-86ed-9af0b33380a0",
   "metadata": {},
   "outputs": [
    {
     "data": {
      "text/plain": [
       "array([[[1, 2],\n",
       "        [3, 4]],\n",
       "\n",
       "       [[5, 6],\n",
       "        [7, 8]]])"
      ]
     },
     "execution_count": 11,
     "metadata": {},
     "output_type": "execute_result"
    }
   ],
   "source": [
    "np.array(cubo) #array de três dimensões"
   ]
  },
  {
   "cell_type": "code",
   "execution_count": 15,
   "id": "8d5f4ef1-85f2-4096-97c3-88ea36d3a1b9",
   "metadata": {},
   "outputs": [
    {
     "name": "stdout",
     "output_type": "stream",
     "text": [
      "[1. 2. 3.]\n",
      "[1 2 3]\n",
      "[1 2 3]\n",
      "[1 2 3]\n",
      "[1. 2. 3.]\n"
     ]
    }
   ],
   "source": [
    "np.array(lista, dtype=float)\n",
    "np.array(lista, dtype=np.int8)\n",
    "np.array(lista, dtype=np.uint32)\n",
    "np.array(lista, dtype=np.int32)\n",
    "np.array(lista, dtype=np.float64)"
   ]
  },
  {
   "cell_type": "code",
   "execution_count": 16,
   "id": "fb40f435-c249-45cf-8dd5-928d9cf08f5b",
   "metadata": {},
   "outputs": [
    {
     "data": {
      "text/plain": [
       "array([[0., 0., 0., 0., 0.],\n",
       "       [0., 0., 0., 0., 0.],\n",
       "       [0., 0., 0., 0., 0.],\n",
       "       [0., 0., 0., 0., 0.]])"
      ]
     },
     "execution_count": 16,
     "metadata": {},
     "output_type": "execute_result"
    }
   ],
   "source": [
    "np.zeros((4, 5))"
   ]
  },
  {
   "cell_type": "code",
   "execution_count": 17,
   "id": "b8a141c2-7b15-4cca-b69c-51271fdfde47",
   "metadata": {},
   "outputs": [
    {
     "data": {
      "text/plain": [
       "array([[1., 1., 1., 1., 1.],\n",
       "       [1., 1., 1., 1., 1.],\n",
       "       [1., 1., 1., 1., 1.],\n",
       "       [1., 1., 1., 1., 1.]])"
      ]
     },
     "execution_count": 17,
     "metadata": {},
     "output_type": "execute_result"
    }
   ],
   "source": [
    "np.ones((4, 5))"
   ]
  },
  {
   "cell_type": "code",
   "execution_count": 20,
   "id": "1342ef94-21af-42de-b411-ce8c255b8a6e",
   "metadata": {},
   "outputs": [
    {
     "name": "stdout",
     "output_type": "stream",
     "text": [
      "a = [1 2 3 4 5 6] ; b = [1 2]\n",
      "a = [2 3 3 4 5 6] ; b = [2 3]\n"
     ]
    }
   ],
   "source": [
    "a = np.array([1, 2, 3, 4, 5, 6])\n",
    "b = a[:2] # B aponta para as duas primeiras posições de A\n",
    "print('a =', a, '; b =', b)\n",
    "b += 1\n",
    "print('a =', a, '; b =', b) # depois da operação de soma, alterou tanto A quanto B"
   ]
  },
  {
   "cell_type": "code",
   "execution_count": 21,
   "id": "af45e2b0-8f1f-499b-903c-a7a4335abc43",
   "metadata": {},
   "outputs": [
    {
     "name": "stdout",
     "output_type": "stream",
     "text": [
      "a = [1 2 3 4] ; b = [1 2]\n",
      "a =  [1 2 3 4] b =  [2 3]\n"
     ]
    }
   ],
   "source": [
    "a = np.array([1, 2, 3, 4])\n",
    "b = a[:2].copy() # B é uma nova array feita a partir das primeiras posições de A\n",
    "print('a =', a, '; b =', b)\n",
    "b += 1\n",
    "print('a = ', a, 'b = ', b) # depois da operação de soma, somente B se altera"
   ]
  },
  {
   "cell_type": "code",
   "execution_count": 23,
   "id": "f030ef4b-27fc-401d-935f-8963a2d62c74",
   "metadata": {},
   "outputs": [
    {
     "data": {
      "text/plain": [
       "array([ 0,  1,  2,  3,  4,  5,  6,  7,  8,  9, 10])"
      ]
     },
     "execution_count": 23,
     "metadata": {},
     "output_type": "execute_result"
    }
   ],
   "source": [
    "x = np.arange(0, 11)\n",
    "x"
   ]
  },
  {
   "cell_type": "code",
   "execution_count": 25,
   "id": "03f1f0a6-8ee8-4299-b39d-56d9d6021088",
   "metadata": {},
   "outputs": [
    {
     "data": {
      "text/plain": [
       "array([[ 0,  1,  2,  3,  4,  5,  6],\n",
       "       [ 7,  8,  9, 10, 11, 12, 13],\n",
       "       [14, 15, 16, 17, 18, 19, 20],\n",
       "       [21, 22, 23, 24, 25, 26, 27],\n",
       "       [28, 29, 30, 31, 32, 33, 34]])"
      ]
     },
     "execution_count": 25,
     "metadata": {},
     "output_type": "execute_result"
    }
   ],
   "source": [
    "x = np.arange(35).reshape(5, 7)\n",
    "x"
   ]
  },
  {
   "cell_type": "code",
   "execution_count": 29,
   "id": "9f30fbf9-5a8f-4fbd-ae8a-4850b71120f1",
   "metadata": {},
   "outputs": [
    {
     "data": {
      "text/plain": [
       "array([[[ 0,  1],\n",
       "        [ 2,  3],\n",
       "        [ 4,  5]],\n",
       "\n",
       "       [[ 6,  7],\n",
       "        [ 8,  9],\n",
       "        [10, 11]],\n",
       "\n",
       "       [[12, 13],\n",
       "        [14, 15],\n",
       "        [16, 17]],\n",
       "\n",
       "       [[18, 19],\n",
       "        [20, 21],\n",
       "        [22, 23]],\n",
       "\n",
       "       [[24, 25],\n",
       "        [26, 27],\n",
       "        [28, 29]]])"
      ]
     },
     "execution_count": 29,
     "metadata": {},
     "output_type": "execute_result"
    }
   ],
   "source": [
    "x = np.arange(30).reshape(5, 3, 2) # 5 x 3 x 2 = 30\n",
    "x"
   ]
  },
  {
   "cell_type": "code",
   "execution_count": 31,
   "id": "493cd990-0df0-4250-b4c5-eb9097f656f0",
   "metadata": {},
   "outputs": [
    {
     "data": {
      "text/plain": [
       "array([[0, 1],\n",
       "       [2, 3],\n",
       "       [4, 5]])"
      ]
     },
     "execution_count": 31,
     "metadata": {},
     "output_type": "execute_result"
    }
   ],
   "source": [
    "x[0] # indexando 1 dimensão"
   ]
  },
  {
   "cell_type": "code",
   "execution_count": 32,
   "id": "538bfeaa-7cd6-47e0-b0d2-575df9c6515e",
   "metadata": {},
   "outputs": [
    {
     "data": {
      "text/plain": [
       "array([0, 1])"
      ]
     },
     "execution_count": 32,
     "metadata": {},
     "output_type": "execute_result"
    }
   ],
   "source": [
    "x[0][0] # indexando 2 dimensões"
   ]
  },
  {
   "cell_type": "code",
   "execution_count": 33,
   "id": "3a6ad90c-2211-4074-92c9-8c3456be6e00",
   "metadata": {},
   "outputs": [
    {
     "data": {
      "text/plain": [
       "0"
      ]
     },
     "execution_count": 33,
     "metadata": {},
     "output_type": "execute_result"
    }
   ],
   "source": [
    "x[0][0][0] # indexando 3 dimensões"
   ]
  },
  {
   "cell_type": "code",
   "execution_count": 37,
   "id": "7b2bfc51-623f-4ec8-a542-59ea4ed7a305",
   "metadata": {},
   "outputs": [
    {
     "data": {
      "text/plain": [
       "array([[ 0,  1,  2,  3,  4,  5],\n",
       "       [ 6,  7,  8,  9, 10, 11],\n",
       "       [12, 13, 14, 15, 16, 17],\n",
       "       [18, 19, 20, 21, 22, 23],\n",
       "       [24, 25, 26, 27, 28, 29]])"
      ]
     },
     "execution_count": 37,
     "metadata": {},
     "output_type": "execute_result"
    }
   ],
   "source": [
    "x = x.reshape(5, 6)\n",
    "x"
   ]
  },
  {
   "cell_type": "code",
   "execution_count": 38,
   "id": "b9211ad5-7372-402f-ade3-e88fdbf91a8f",
   "metadata": {},
   "outputs": [
    {
     "data": {
      "text/plain": [
       "array([[ 0,  1,  2,  3,  4,  5],\n",
       "       [ 6,  7,  8,  9, 10, 11]])"
      ]
     },
     "execution_count": 38,
     "metadata": {},
     "output_type": "execute_result"
    }
   ],
   "source": [
    "x[[0, 1]]"
   ]
  },
  {
   "cell_type": "code",
   "execution_count": 40,
   "id": "d34d61bd-4a9b-4fc6-9f1b-372fee03ab89",
   "metadata": {},
   "outputs": [
    {
     "data": {
      "text/plain": [
       "array([[ 6,  7,  8,  9, 10, 11],\n",
       "       [ 0,  1,  2,  3,  4,  5],\n",
       "       [24, 25, 26, 27, 28, 29]])"
      ]
     },
     "execution_count": 40,
     "metadata": {},
     "output_type": "execute_result"
    }
   ],
   "source": [
    "x[[1, 0, 4]]"
   ]
  },
  {
   "cell_type": "code",
   "execution_count": 53,
   "id": "9ba5455a-9faf-4d37-a77e-3aa0724389d0",
   "metadata": {},
   "outputs": [
    {
     "name": "stdout",
     "output_type": "stream",
     "text": [
      "a: [[0 1 2 3 4]\n",
      " [5 6 7 8 9]]\n",
      "b: [11 12 13 14 15]\n"
     ]
    }
   ],
   "source": [
    "a = np.arange(0, 10).reshape(2,5)\n",
    "print(\"a:\", a)\n",
    "b = np.arange(11, 16)\n",
    "print(\"b:\", b)"
   ]
  },
  {
   "cell_type": "code",
   "execution_count": 54,
   "id": "87cbf180-2392-488c-bc58-8bd73b9740ef",
   "metadata": {},
   "outputs": [
    {
     "data": {
      "text/plain": [
       "array([[11, 13, 15, 17, 19],\n",
       "       [16, 18, 20, 22, 24]])"
      ]
     },
     "execution_count": 54,
     "metadata": {},
     "output_type": "execute_result"
    }
   ],
   "source": [
    "a + b"
   ]
  },
  {
   "cell_type": "code",
   "execution_count": 56,
   "id": "16197164-6dfc-4529-bb5e-46f5176e8791",
   "metadata": {},
   "outputs": [
    {
     "data": {
      "text/plain": [
       "array([[-11, -11, -11, -11, -11],\n",
       "       [ -6,  -6,  -6,  -6,  -6]])"
      ]
     },
     "execution_count": 56,
     "metadata": {},
     "output_type": "execute_result"
    }
   ],
   "source": [
    "a - b"
   ]
  },
  {
   "cell_type": "code",
   "execution_count": 57,
   "id": "e868696d-1ed4-407e-9b3a-2d353bcaf044",
   "metadata": {},
   "outputs": [
    {
     "data": {
      "text/plain": [
       "array([[  0,  12,  26,  42,  60],\n",
       "       [ 55,  72,  91, 112, 135]])"
      ]
     },
     "execution_count": 57,
     "metadata": {},
     "output_type": "execute_result"
    }
   ],
   "source": [
    "a * b"
   ]
  },
  {
   "cell_type": "code",
   "execution_count": 59,
   "id": "91890957-5cbf-451c-ae85-92d4cf0e8ea5",
   "metadata": {},
   "outputs": [
    {
     "data": {
      "text/plain": [
       "array([11, 12])"
      ]
     },
     "execution_count": 59,
     "metadata": {},
     "output_type": "execute_result"
    }
   ],
   "source": [
    "b = np.arange(11, 13)\n",
    "b"
   ]
  },
  {
   "cell_type": "code",
   "execution_count": 60,
   "id": "01554b0a-33ad-40de-a74a-537169bf7808",
   "metadata": {},
   "outputs": [
    {
     "ename": "ValueError",
     "evalue": "operands could not be broadcast together with shapes (2,5) (2,) ",
     "output_type": "error",
     "traceback": [
      "\u001b[0;31m---------------------------------------------------------------------------\u001b[0m",
      "\u001b[0;31mValueError\u001b[0m                                Traceback (most recent call last)",
      "Cell \u001b[0;32mIn[60], line 1\u001b[0m\n\u001b[0;32m----> 1\u001b[0m \u001b[43ma\u001b[49m\u001b[43m \u001b[49m\u001b[38;5;241;43m*\u001b[39;49m\u001b[43m \u001b[49m\u001b[43mb\u001b[49m\n",
      "\u001b[0;31mValueError\u001b[0m: operands could not be broadcast together with shapes (2,5) (2,) "
     ]
    }
   ],
   "source": [
    "a * b"
   ]
  },
  {
   "cell_type": "code",
   "execution_count": 63,
   "id": "6af5850e-b732-4c74-866d-ffa0a3dc9597",
   "metadata": {},
   "outputs": [
    {
     "name": "stdout",
     "output_type": "stream",
     "text": [
      "[[0 1 2 3 4]\n",
      " [5 6 7 8 9]]\n",
      "4.5\n",
      "[2.5 3.5 4.5 5.5 6.5]\n",
      "[2. 7.]\n"
     ]
    }
   ],
   "source": [
    "print(a)\n",
    "print(a.mean())\n",
    "print(a.mean(axis=0))\n",
    "print(a.mean(axis=1))"
   ]
  },
  {
   "cell_type": "code",
   "execution_count": null,
   "id": "626b3f0e-7893-40ab-9ef1-ded98cfc0a6a",
   "metadata": {},
   "outputs": [],
   "source": []
  }
 ],
 "metadata": {
  "kernelspec": {
   "display_name": "Python 3 (ipykernel)",
   "language": "python",
   "name": "python3"
  },
  "language_info": {
   "codemirror_mode": {
    "name": "ipython",
    "version": 3
   },
   "file_extension": ".py",
   "mimetype": "text/x-python",
   "name": "python",
   "nbconvert_exporter": "python",
   "pygments_lexer": "ipython3",
   "version": "3.11.3"
  }
 },
 "nbformat": 4,
 "nbformat_minor": 5
}
